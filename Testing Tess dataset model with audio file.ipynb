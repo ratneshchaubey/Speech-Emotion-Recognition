{
 "cells": [
  {
   "cell_type": "code",
   "execution_count": 2,
   "id": "af205478",
   "metadata": {},
   "outputs": [],
   "source": [
    "import pickle\n"
   ]
  },
  {
   "cell_type": "code",
   "execution_count": 3,
   "id": "d8ca812a",
   "metadata": {},
   "outputs": [],
   "source": [
    "filename='Speech_Emotion_Recognition_Model'\n",
    "loaded_model=pickle.load(open(filename,'rb'))"
   ]
  },
  {
   "cell_type": "code",
   "execution_count": 4,
   "id": "da3a9e49",
   "metadata": {},
   "outputs": [],
   "source": [
    "def extract_feature(file_name,mfcc,chroma,mel,zcr,rmse):\n",
    "    with soundfile.SoundFile(file_name) as sound_file:\n",
    "        X = sound_file.read(dtype=\"float32\")\n",
    "        sample_rate=sound_file.samplerate\n",
    "        stft=np.abs(librosa.stft(X))\n",
    "        result=np.array([])\n",
    "        if mfcc:\n",
    "            mfccs=np.mean(librosa.feature.mfcc(y=X, sr=sample_rate, n_mfcc=40).T,axis=0)\n",
    "            result=np.hstack((result, mfccs))\n",
    "        if chroma:\n",
    "            chroma=np.mean(librosa.feature.chroma_stft(S=stft, sr=sample_rate).T,axis=0)\n",
    "            result=np.hstack((result, chroma))\n",
    "        if mel:\n",
    "            mel=np.mean(librosa.feature.melspectrogram(X, sr=sample_rate).T,axis=0)\n",
    "            result=np.hstack((result, mel))\n",
    "        if zcr:\n",
    "            zcr=np.mean(librosa.feature.zero_crossing_rate(y=X, frame_length=2048, hop_length=512).T,axis=0)\n",
    "            result=np.hstack((result, zcr))\n",
    "        if rmse:\n",
    "            rmse=np.mean(librosa.feature.rms(S=stft,frame_length=2048, hop_length=512, pad_mode='reflect').T,axis=0)\n",
    "            result=np.hstack((result, rmse))\n",
    "    return result"
   ]
  },
  {
   "cell_type": "code",
   "execution_count": 5,
   "id": "0f53e708",
   "metadata": {},
   "outputs": [],
   "source": [
    "import librosa\n",
    "import os\n",
    "import pandas as pd\n",
    "import glob\n",
    "import numpy as np\n",
    "import soundfile\n",
    "from sklearn.model_selection import train_test_split\n",
    "import sys\n",
    "import pickle"
   ]
  },
  {
   "cell_type": "code",
   "execution_count": 6,
   "id": "8e1f8f9b",
   "metadata": {},
   "outputs": [],
   "source": [
    "import numpy as np\n",
    "from scipy.io.wavfile import read\n",
    "import matplotlib.pyplot as plt\n",
    "import warnings\n",
    "if not sys.warnoptions:\n",
    "    warnings.simplefilter(\"ignore\")\n",
    "warnings.filterwarnings(\"ignore\",category=DeprecationWarning)"
   ]
  },
  {
   "cell_type": "code",
   "execution_count": 7,
   "id": "705d9df9",
   "metadata": {},
   "outputs": [],
   "source": [
    "file_name1='OAF_back_angry.wav'\n",
    "feature=extract_feature(file_name1,mfcc=True,chroma=True,mel=True,zcr=True,rmse=True)\n",
    "x,y=[],[]\n",
    "x.append(feature)\n",
    "       "
   ]
  },
  {
   "cell_type": "code",
   "execution_count": 8,
   "id": "1d41416f",
   "metadata": {},
   "outputs": [
    {
     "name": "stdout",
     "output_type": "stream",
     "text": [
      "['angry']\n"
     ]
    }
   ],
   "source": [
    "pred_result= loaded_model.predict(x)\n",
    "print(pred_result)"
   ]
  },
  {
   "cell_type": "code",
   "execution_count": 9,
   "id": "e5cc0990",
   "metadata": {},
   "outputs": [
    {
     "name": "stdout",
     "output_type": "stream",
     "text": [
      "['angry']\n"
     ]
    }
   ],
   "source": [
    "file_name1='1001_IEO_HAP_HI.wav'\n",
    "feature=extract_feature(file_name1,mfcc=True,chroma=True,mel=True,zcr=True,rmse=True)\n",
    "x=[]\n",
    "x.append(feature)\n",
    "pred_result= loaded_model.predict(x)\n",
    "print(pred_result)"
   ]
  },
  {
   "cell_type": "code",
   "execution_count": 10,
   "id": "25ca63e0",
   "metadata": {},
   "outputs": [
    {
     "name": "stdout",
     "output_type": "stream",
     "text": [
      "['fear']\n"
     ]
    }
   ],
   "source": [
    "file_name1='v.wav'\n",
    "feature=extract_feature(file_name1,mfcc=True,chroma=True,mel=True,zcr=True,rmse=True)\n",
    "x=[]\n",
    "x.append(feature)\n",
    "pred_result= loaded_model.predict(x)\n",
    "print(pred_result)"
   ]
  },
  {
   "cell_type": "code",
   "execution_count": 11,
   "id": "b1fac7f8",
   "metadata": {},
   "outputs": [
    {
     "name": "stdout",
     "output_type": "stream",
     "text": [
      "['disgust']\n"
     ]
    }
   ],
   "source": [
    "file_name1='Close.wav'\n",
    "feature=extract_feature(file_name1,mfcc=True,chroma=True,mel=True,zcr=True,rmse=True)\n",
    "x=[]\n",
    "x.append(feature)\n",
    "pred_result= loaded_model.predict(x)\n",
    "print(pred_result)"
   ]
  },
  {
   "cell_type": "code",
   "execution_count": 12,
   "id": "44af4a87",
   "metadata": {},
   "outputs": [
    {
     "name": "stdout",
     "output_type": "stream",
     "text": [
      "['disgust']\n"
     ]
    }
   ],
   "source": [
    "file_name1='Shut_up.wav'\n",
    "feature=extract_feature(file_name1,mfcc=True,chroma=True,mel=True,zcr=True,rmse=True)\n",
    "x=[]\n",
    "x.append(feature)\n",
    "pred_result= loaded_model.predict(x)\n",
    "print(pred_result)"
   ]
  },
  {
   "cell_type": "code",
   "execution_count": null,
   "id": "2beeb2fe",
   "metadata": {},
   "outputs": [],
   "source": []
  }
 ],
 "metadata": {
  "kernelspec": {
   "display_name": "Python 3 (ipykernel)",
   "language": "python",
   "name": "python3"
  },
  "language_info": {
   "codemirror_mode": {
    "name": "ipython",
    "version": 3
   },
   "file_extension": ".py",
   "mimetype": "text/x-python",
   "name": "python",
   "nbconvert_exporter": "python",
   "pygments_lexer": "ipython3",
   "version": "3.9.12"
  }
 },
 "nbformat": 4,
 "nbformat_minor": 5
}
