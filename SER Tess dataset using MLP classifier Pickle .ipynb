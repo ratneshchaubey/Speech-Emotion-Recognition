{
 "cells": [
  {
   "cell_type": "code",
   "execution_count": 1,
   "id": "e1f27413",
   "metadata": {},
   "outputs": [],
   "source": [
    "import librosa\n",
    "import os\n",
    "import pandas as pd\n",
    "import glob\n",
    "import numpy as np\n",
    "import soundfile\n",
    "from sklearn.model_selection import train_test_split\n",
    "import sys\n",
    "import pickle"
   ]
  },
  {
   "cell_type": "code",
   "execution_count": 2,
   "id": "68f1d259",
   "metadata": {},
   "outputs": [],
   "source": [
    "import warnings\n",
    "if not sys.warnoptions:\n",
    "    warnings.simplefilter(\"ignore\")\n",
    "warnings.filterwarnings(\"ignore\",category=DeprecationWarning)"
   ]
  },
  {
   "cell_type": "code",
   "execution_count": 3,
   "id": "2273eb44",
   "metadata": {},
   "outputs": [],
   "source": [
    "def extract_feature(file_name,mfcc,chroma,mel,zcr,rmse):\n",
    "    with soundfile.SoundFile(file_name) as sound_file:\n",
    "        X = sound_file.read(dtype=\"float32\")\n",
    "        sample_rate=sound_file.samplerate\n",
    "        stft=np.abs(librosa.stft(X))\n",
    "        result=np.array([])\n",
    "        if mfcc:\n",
    "            mfccs=np.mean(librosa.feature.mfcc(y=X, sr=sample_rate, n_mfcc=40).T,axis=0)\n",
    "            result=np.hstack((result, mfccs))\n",
    "        if chroma:\n",
    "            chroma=np.mean(librosa.feature.chroma_stft(S=stft, sr=sample_rate).T,axis=0)\n",
    "            result=np.hstack((result, chroma))\n",
    "        if mel:\n",
    "            mel=np.mean(librosa.feature.melspectrogram(X, sr=sample_rate).T,axis=0)\n",
    "            result=np.hstack((result, mel))\n",
    "        if zcr:\n",
    "            zcr=np.mean(librosa.feature.zero_crossing_rate(y=X, frame_length=2048, hop_length=512).T,axis=0)\n",
    "            result=np.hstack((result, zcr))\n",
    "        if rmse:\n",
    "            rmse=np.mean(librosa.feature.rms(S=stft,frame_length=2048, hop_length=512, pad_mode='reflect').T,axis=0)\n",
    "            result=np.hstack((result, rmse))\n",
    "    return result"
   ]
  },
  {
   "cell_type": "code",
   "execution_count": 4,
   "id": "424bf44c",
   "metadata": {},
   "outputs": [],
   "source": [
    "#Load the data and extract features for each sound file\n",
    "def load_data(test_size=0.5):\n",
    "    x,y=[],[]\n",
    "    for file in glob.glob(\"C:\\\\Users\\\\ACER\\\\Documents\\\\Jupyter Notebook\\\\TESS Toronto emotional speech set data/*//*\"):\n",
    "        file_name=os.path.basename(file)\n",
    "        L=file_name.split('_')\n",
    "        if L[2]=='angry.wav':\n",
    "          e='angry'\n",
    "        if L[2]=='disgust.wav':\n",
    "          e='disgust'\n",
    "        if L[2]=='fear.wav':\n",
    "          e='fear'\n",
    "        if L[2]=='happy.wav':\n",
    "          e='happy'\n",
    "        if L[2]=='neutral.wav':\n",
    "          e='neutral'\n",
    "        if L[2]=='ps.wav':\n",
    "          e='pleasant surprised'\n",
    "        if L[2]=='sad.wav':\n",
    "          e='sad'\n",
    "        feature=extract_feature(file,mfcc=True,chroma=True,mel=True,zcr=True,rmse=True)\n",
    "        x.append(feature)\n",
    "        y.append(e)\n",
    "    return train_test_split(np.array(x), y, test_size=test_size)"
   ]
  },
  {
   "cell_type": "code",
   "execution_count": 5,
   "id": "bf7e2bc8",
   "metadata": {},
   "outputs": [],
   "source": [
    "x_train,x_test,y_train,y_test=load_data(test_size=0.2)"
   ]
  },
  {
   "cell_type": "code",
   "execution_count": 6,
   "id": "f52afda6",
   "metadata": {},
   "outputs": [
    {
     "data": {
      "text/plain": [
       "182"
      ]
     },
     "execution_count": 6,
     "metadata": {},
     "output_type": "execute_result"
    }
   ],
   "source": [
    "x_train.shape[1]"
   ]
  },
  {
   "cell_type": "code",
   "execution_count": 7,
   "id": "fbcc10c1",
   "metadata": {},
   "outputs": [],
   "source": [
    "from sklearn.model_selection import train_test_split\n",
    "from sklearn.neural_network import MLPClassifier\n",
    "from sklearn.metrics import accuracy_score"
   ]
  },
  {
   "cell_type": "code",
   "execution_count": 8,
   "id": "ae955d03",
   "metadata": {},
   "outputs": [
    {
     "name": "stdout",
     "output_type": "stream",
     "text": [
      "6.566116571426392\n"
     ]
    }
   ],
   "source": [
    "import time\n",
    "start = time.time()\n",
    "model=MLPClassifier(alpha=0.0001, batch_size=64, epsilon=1e-08, hidden_layer_sizes=(500,), learning_rate='constant',activation='relu',solver='adam',max_iter=600)\n",
    "model.fit(x_train,y_train)\n",
    "end = time.time()\n",
    "train_time_total=end-start\n",
    "print(train_time_total)"
   ]
  },
  {
   "cell_type": "markdown",
   "id": "e5e45c11",
   "metadata": {},
   "source": [
    "# Accuracy of our Model"
   ]
  },
  {
   "cell_type": "code",
   "execution_count": 10,
   "id": "176a3699",
   "metadata": {},
   "outputs": [
    {
     "name": "stdout",
     "output_type": "stream",
     "text": [
      "Accuracy: 100.00%\n"
     ]
    }
   ],
   "source": [
    "y_pred=model.predict(x_test)\n",
    "accuracy=accuracy_score(y_true=y_test, y_pred=y_pred)\n",
    "print(\"Accuracy: {:.2f}%\".format(accuracy*100))"
   ]
  },
  {
   "cell_type": "markdown",
   "id": "d23c9844",
   "metadata": {},
   "source": [
    "# Classification Report"
   ]
  },
  {
   "cell_type": "code",
   "execution_count": 11,
   "id": "d6623c29",
   "metadata": {},
   "outputs": [
    {
     "name": "stdout",
     "output_type": "stream",
     "text": [
      "                    precision    recall  f1-score   support\n",
      "\n",
      "             angry       1.00      1.00      1.00        90\n",
      "           disgust       1.00      1.00      1.00        97\n",
      "              fear       1.00      1.00      1.00        67\n",
      "             happy       1.00      1.00      1.00        77\n",
      "           neutral       1.00      1.00      1.00        81\n",
      "pleasant surprised       1.00      1.00      1.00        67\n",
      "               sad       1.00      1.00      1.00        81\n",
      "\n",
      "          accuracy                           1.00       560\n",
      "         macro avg       1.00      1.00      1.00       560\n",
      "      weighted avg       1.00      1.00      1.00       560\n",
      "\n"
     ]
    }
   ],
   "source": [
    "from sklearn.metrics import classification_report\n",
    "print(classification_report(y_test,y_pred))"
   ]
  },
  {
   "cell_type": "markdown",
   "id": "f46b8621",
   "metadata": {},
   "source": [
    "# Pickle file\n"
   ]
  },
  {
   "cell_type": "code",
   "execution_count": 12,
   "id": "fe25bb42",
   "metadata": {},
   "outputs": [],
   "source": [
    "filename='Speech_Emotion_Recognition_Model'\n",
    "pickle.dump(model,open(filename,'wb'))"
   ]
  },
  {
   "cell_type": "code",
   "execution_count": 13,
   "id": "1f7512e4",
   "metadata": {},
   "outputs": [
    {
     "data": {
      "text/plain": [
       "array(['fear', 'pleasant surprised', 'neutral', 'angry', 'angry', 'sad',\n",
       "       'fear', 'sad', 'fear', 'disgust', 'sad', 'angry', 'neutral',\n",
       "       'angry', 'pleasant surprised', 'sad', 'neutral', 'sad', 'fear',\n",
       "       'fear', 'disgust', 'disgust', 'neutral', 'sad',\n",
       "       'pleasant surprised', 'pleasant surprised', 'neutral', 'angry',\n",
       "       'fear', 'disgust', 'happy', 'pleasant surprised', 'disgust',\n",
       "       'disgust', 'disgust', 'disgust', 'sad', 'angry', 'angry',\n",
       "       'neutral', 'neutral', 'sad', 'fear', 'disgust',\n",
       "       'pleasant surprised', 'pleasant surprised', 'fear', 'angry',\n",
       "       'angry', 'pleasant surprised', 'neutral', 'disgust', 'sad',\n",
       "       'neutral', 'pleasant surprised', 'angry', 'fear', 'angry', 'angry',\n",
       "       'happy', 'neutral', 'neutral', 'neutral', 'neutral', 'disgust',\n",
       "       'angry', 'pleasant surprised', 'happy', 'fear', 'angry', 'happy',\n",
       "       'disgust', 'fear', 'angry', 'disgust', 'disgust', 'angry',\n",
       "       'disgust', 'fear', 'neutral', 'sad', 'angry', 'happy', 'angry',\n",
       "       'disgust', 'happy', 'neutral', 'fear', 'fear',\n",
       "       'pleasant surprised', 'disgust', 'fear', 'pleasant surprised',\n",
       "       'fear', 'fear', 'disgust', 'fear', 'neutral', 'happy', 'fear',\n",
       "       'pleasant surprised', 'disgust', 'pleasant surprised', 'disgust',\n",
       "       'neutral', 'fear', 'disgust', 'sad', 'neutral', 'sad', 'happy',\n",
       "       'angry', 'disgust', 'disgust', 'pleasant surprised', 'disgust',\n",
       "       'fear', 'sad', 'fear', 'sad', 'sad', 'happy', 'disgust', 'neutral',\n",
       "       'disgust', 'sad', 'sad', 'fear', 'pleasant surprised', 'angry',\n",
       "       'neutral', 'disgust', 'sad', 'disgust', 'neutral',\n",
       "       'pleasant surprised', 'fear', 'happy', 'pleasant surprised',\n",
       "       'angry', 'pleasant surprised', 'happy', 'happy', 'sad', 'happy',\n",
       "       'happy', 'angry', 'happy', 'happy', 'happy', 'happy', 'fear',\n",
       "       'happy', 'fear', 'happy', 'disgust', 'sad', 'angry', 'angry',\n",
       "       'pleasant surprised', 'pleasant surprised', 'neutral', 'disgust',\n",
       "       'disgust', 'happy', 'pleasant surprised', 'fear', 'happy', 'fear',\n",
       "       'angry', 'pleasant surprised', 'sad', 'happy', 'disgust',\n",
       "       'disgust', 'pleasant surprised', 'happy', 'pleasant surprised',\n",
       "       'neutral', 'disgust', 'sad', 'angry', 'pleasant surprised',\n",
       "       'pleasant surprised', 'neutral', 'sad', 'sad', 'happy', 'angry',\n",
       "       'angry', 'sad', 'sad', 'sad', 'fear', 'fear', 'happy', 'angry',\n",
       "       'disgust', 'disgust', 'disgust', 'pleasant surprised', 'angry',\n",
       "       'neutral', 'angry', 'disgust', 'angry', 'fear', 'disgust',\n",
       "       'disgust', 'disgust', 'sad', 'sad', 'happy', 'disgust', 'neutral',\n",
       "       'sad', 'neutral', 'happy', 'disgust', 'sad', 'neutral', 'disgust',\n",
       "       'fear', 'pleasant surprised', 'pleasant surprised', 'happy',\n",
       "       'pleasant surprised', 'sad', 'angry', 'pleasant surprised',\n",
       "       'pleasant surprised', 'angry', 'angry', 'disgust', 'neutral',\n",
       "       'happy', 'disgust', 'pleasant surprised', 'disgust',\n",
       "       'pleasant surprised', 'angry', 'neutral', 'pleasant surprised',\n",
       "       'happy', 'disgust', 'disgust', 'happy', 'sad',\n",
       "       'pleasant surprised', 'fear', 'sad', 'neutral', 'sad', 'angry',\n",
       "       'sad', 'sad', 'neutral', 'sad', 'pleasant surprised', 'disgust',\n",
       "       'sad', 'fear', 'disgust', 'fear', 'happy', 'happy', 'happy',\n",
       "       'disgust', 'pleasant surprised', 'neutral', 'happy', 'fear',\n",
       "       'fear', 'disgust', 'angry', 'angry', 'angry', 'happy', 'angry',\n",
       "       'sad', 'pleasant surprised', 'fear', 'angry', 'sad', 'angry',\n",
       "       'happy', 'happy', 'disgust', 'fear', 'happy', 'fear', 'disgust',\n",
       "       'pleasant surprised', 'happy', 'disgust', 'angry',\n",
       "       'pleasant surprised', 'happy', 'neutral', 'angry', 'angry',\n",
       "       'pleasant surprised', 'fear', 'happy', 'pleasant surprised',\n",
       "       'fear', 'happy', 'happy', 'neutral', 'disgust', 'sad', 'neutral',\n",
       "       'pleasant surprised', 'pleasant surprised', 'fear', 'sad',\n",
       "       'disgust', 'happy', 'fear', 'pleasant surprised', 'sad', 'angry',\n",
       "       'angry', 'angry', 'happy', 'pleasant surprised', 'angry',\n",
       "       'neutral', 'neutral', 'neutral', 'neutral', 'neutral', 'sad',\n",
       "       'disgust', 'happy', 'happy', 'angry', 'neutral', 'angry',\n",
       "       'pleasant surprised', 'angry', 'pleasant surprised', 'sad',\n",
       "       'neutral', 'angry', 'fear', 'neutral', 'fear', 'sad', 'angry',\n",
       "       'disgust', 'angry', 'disgust', 'angry', 'neutral', 'neutral',\n",
       "       'neutral', 'neutral', 'angry', 'disgust', 'neutral', 'angry',\n",
       "       'neutral', 'angry', 'happy', 'pleasant surprised', 'angry', 'sad',\n",
       "       'fear', 'disgust', 'pleasant surprised', 'angry', 'fear',\n",
       "       'pleasant surprised', 'disgust', 'neutral', 'fear', 'angry',\n",
       "       'angry', 'fear', 'angry', 'happy', 'neutral', 'neutral', 'sad',\n",
       "       'fear', 'angry', 'neutral', 'happy', 'fear', 'sad', 'neutral',\n",
       "       'disgust', 'sad', 'neutral', 'angry', 'angry', 'angry',\n",
       "       'pleasant surprised', 'fear', 'angry', 'pleasant surprised',\n",
       "       'angry', 'happy', 'neutral', 'fear', 'happy', 'fear', 'happy',\n",
       "       'sad', 'fear', 'sad', 'neutral', 'pleasant surprised', 'happy',\n",
       "       'fear', 'happy', 'pleasant surprised', 'sad', 'fear', 'disgust',\n",
       "       'sad', 'angry', 'neutral', 'sad', 'neutral', 'angry', 'disgust',\n",
       "       'neutral', 'sad', 'neutral', 'neutral', 'pleasant surprised',\n",
       "       'happy', 'neutral', 'neutral', 'disgust', 'angry', 'sad',\n",
       "       'disgust', 'angry', 'neutral', 'disgust', 'happy', 'sad',\n",
       "       'disgust', 'neutral', 'neutral', 'happy', 'disgust', 'fear', 'sad',\n",
       "       'fear', 'pleasant surprised', 'pleasant surprised', 'disgust',\n",
       "       'disgust', 'disgust', 'angry', 'sad', 'neutral', 'happy',\n",
       "       'neutral', 'sad', 'pleasant surprised', 'disgust', 'happy',\n",
       "       'disgust', 'neutral', 'happy', 'sad', 'neutral', 'fear', 'angry',\n",
       "       'happy', 'happy', 'neutral', 'sad', 'angry', 'disgust', 'angry',\n",
       "       'fear', 'happy', 'disgust', 'disgust', 'disgust', 'sad', 'sad',\n",
       "       'disgust', 'fear', 'disgust', 'neutral', 'fear', 'sad', 'disgust',\n",
       "       'happy', 'happy', 'happy', 'pleasant surprised', 'angry', 'fear',\n",
       "       'happy', 'sad', 'fear', 'sad', 'disgust', 'pleasant surprised',\n",
       "       'happy', 'sad', 'neutral', 'disgust', 'sad', 'sad', 'disgust',\n",
       "       'disgust', 'sad', 'disgust', 'angry', 'pleasant surprised',\n",
       "       'neutral', 'neutral', 'happy', 'angry', 'disgust', 'happy',\n",
       "       'disgust', 'sad', 'disgust', 'disgust', 'happy', 'neutral', 'sad',\n",
       "       'sad', 'sad', 'disgust', 'angry', 'neutral', 'happy', 'happy',\n",
       "       'pleasant surprised', 'disgust', 'angry', 'happy', 'angry', 'sad',\n",
       "       'disgust', 'neutral', 'angry', 'angry', 'disgust', 'neutral',\n",
       "       'angry', 'pleasant surprised', 'angry', 'angry', 'sad', 'sad',\n",
       "       'pleasant surprised', 'fear', 'sad'], dtype='<U18')"
      ]
     },
     "execution_count": 13,
     "metadata": {},
     "output_type": "execute_result"
    }
   ],
   "source": [
    "loaded_model=pickle.load(open(filename,'rb'))\n",
    "loaded_model.predict(x_test)"
   ]
  },
  {
   "cell_type": "code",
   "execution_count": 14,
   "id": "20f6b5fe",
   "metadata": {},
   "outputs": [
    {
     "name": "stdout",
     "output_type": "stream",
     "text": [
      "Accuracy: 100.00%\n"
     ]
    }
   ],
   "source": [
    "loaded_model.predict(x_test)\n",
    "accuracy=accuracy_score(y_true=y_test, y_pred=y_pred)\n",
    "print(\"Accuracy: {:.2f}%\".format(accuracy*100))"
   ]
  },
  {
   "cell_type": "code",
   "execution_count": 15,
   "id": "6b69d184",
   "metadata": {},
   "outputs": [
    {
     "data": {
      "text/plain": [
       "array([[-3.19655975e+02,  3.79566574e+01, -3.86134410e+00, ...,\n",
       "         1.50374454e-02,  1.92977514e-01,  2.85487261e-02],\n",
       "       [-4.12647400e+02,  6.03137703e+01,  1.36190691e+01, ...,\n",
       "         4.91076789e-04,  1.44943576e-01,  1.31565809e-02],\n",
       "       [-5.38866333e+02,  6.60644989e+01,  1.78690186e+01, ...,\n",
       "         4.58595205e-05,  8.71294807e-02,  5.49675022e-03],\n",
       "       ...,\n",
       "       [-4.73261078e+02,  8.79019241e+01, -3.11367059e+00, ...,\n",
       "         4.23563106e-05,  8.44726562e-02,  9.24000418e-03],\n",
       "       [-2.74370728e+02,  2.96860600e+01, -1.39437103e+01, ...,\n",
       "         4.53519486e-02,  2.34846248e-01,  4.27885603e-02],\n",
       "       [-5.36719727e+02,  8.12751083e+01,  3.78236351e+01, ...,\n",
       "         1.32717169e-05,  8.12928735e-02,  8.21741321e-03]])"
      ]
     },
     "execution_count": 15,
     "metadata": {},
     "output_type": "execute_result"
    }
   ],
   "source": [
    "x_test"
   ]
  },
  {
   "cell_type": "code",
   "execution_count": null,
   "id": "cadd56d5",
   "metadata": {},
   "outputs": [],
   "source": []
  }
 ],
 "metadata": {
  "kernelspec": {
   "display_name": "Python 3 (ipykernel)",
   "language": "python",
   "name": "python3"
  },
  "language_info": {
   "codemirror_mode": {
    "name": "ipython",
    "version": 3
   },
   "file_extension": ".py",
   "mimetype": "text/x-python",
   "name": "python",
   "nbconvert_exporter": "python",
   "pygments_lexer": "ipython3",
   "version": "3.9.12"
  }
 },
 "nbformat": 4,
 "nbformat_minor": 5
}
